{
  "nbformat": 4,
  "nbformat_minor": 0,
  "metadata": {
    "colab": {
      "provenance": []
    },
    "kernelspec": {
      "name": "python3",
      "display_name": "Python 3"
    },
    "language_info": {
      "name": "python"
    }
  },
  "cells": [
    {
      "cell_type": "code",
      "execution_count": 3,
      "metadata": {
        "colab": {
          "base_uri": "https://localhost:8080/"
        },
        "id": "jrQQUpz3c_0W",
        "outputId": "ed7a8c46-0e19-447b-ff67-529ec16e348b"
      },
      "outputs": [
        {
          "output_type": "stream",
          "name": "stdout",
          "text": [
            "Mounted at /content/drive\n"
          ]
        }
      ],
      "source": [
        "import os\n",
        "import torch\n",
        "import torchvision.transforms as transforms\n",
        "import torchaudio.transforms as T\n",
        "import torchvision.io as io\n",
        "import torchaudio\n",
        "import numpy as np\n",
        "from google.colab import drive\n",
        "import matplotlib.pyplot as plt\n",
        "import numpy as np\n",
        "import librosa\n",
        "import soundfile as sf\n",
        "from pydub import AudioSegment\n",
        "from pydub.effects import strip_silence\n",
        "drive.mount('/content/drive')"
      ]
    },
    {
      "cell_type": "code",
      "source": [
        "!pip install pydub"
      ],
      "metadata": {
        "colab": {
          "base_uri": "https://localhost:8080/"
        },
        "id": "ebciVoqkUmXv",
        "outputId": "21014847-502c-4e5f-b9cb-a99794cd600d"
      },
      "execution_count": 2,
      "outputs": [
        {
          "output_type": "stream",
          "name": "stdout",
          "text": [
            "Collecting pydub\n",
            "  Downloading pydub-0.25.1-py2.py3-none-any.whl (32 kB)\n",
            "Installing collected packages: pydub\n",
            "Successfully installed pydub-0.25.1\n"
          ]
        }
      ]
    },
    {
      "cell_type": "code",
      "source": [
        "\n",
        "# Define augmentation functions\n",
        "def time_stretch(audio, factor):\n",
        "    return torchaudio.transforms.TimeStretch(n_stps=factor)(audio)\n",
        "\n",
        "def pitch_shift(audio, shift):\n",
        "    return torchaudio.transforms.PitchShift(sample_rate=audio.size(1), n_steps=shift)(audio)\n",
        "\n",
        "def noise_injection(audio, noise_level):\n",
        "    noise = torch.randn_like(audio) * noise_level\n",
        "    return audio + noise\n",
        "\n",
        "def frequency_masking(spectrogram, num_masks=2, mask_factor=27):\n",
        "    masked_spectrogram = spectrogram.clone()\n",
        "    for _ in range(num_masks):\n",
        "        f = torch.randint(low=0, high=mask_factor, size=(1,))\n",
        "        f_max = min(f + mask_factor, spectrogram.size(1))\n",
        "        masked_spectrogram[:, f:f_max] = 0\n",
        "    return masked_spectrogram\n",
        "\n",
        "def dynamic_range_compression(audio, factor):\n",
        "    return torchaudio.transforms.Vol(factor)(audio)\n",
        "\n",
        "def time_warp(audio, warp_factor):\n",
        "    return torchaudio.transforms.TimeWarp(sample_rate=audio.size(1), warp_param=warp_factor)(audio)\n"
      ],
      "metadata": {
        "id": "edzK2jiTdCDE"
      },
      "execution_count": 4,
      "outputs": []
    },
    {
      "cell_type": "code",
      "source": [
        "\n",
        "# Define augmentation parameters\n",
        "augmentation_params = {\n",
        "    \"time_stretch_factor\": 1.1,\n",
        "    \"pitch_shift_amount\": 3,\n",
        "    \"noise_level\": 0.1,\n",
        "    \"time_warp_factor\": 0.2,\n",
        "    \"freq_masking\": 2,\n",
        "    \"freq_mask_width\": 15\n",
        "}\n",
        "\n",
        "\n",
        "\n",
        "# Load the class distribution\n",
        "class_distribution = {\n",
        "    \"dog_barking\": 640,\n",
        "    \"car_horn\": 344,\n",
        "    \"Fart\": 291,\n",
        "    \"Guitar\": 548,\n",
        "    \"drilling\": 560,\n",
        "    \"Gunshot_and_gunfire\": 448,\n",
        "    \"Hi-hat\": 171,\n",
        "    \"Knock\": 168,\n",
        "    \"Splash_and_splatter\": 174,\n",
        "    \"Snare_drum\": 449,\n",
        "    \"Shatter\": 212,\n",
        "    \"Laughter\": 295,\n",
        "    \"siren\": 560\n",
        "}\n",
        "\n",
        "# Define threshold for underrepresented classes\n",
        "threshold = max(class_distribution.values())  # You can adjust this threshold based on your dataset\n"
      ],
      "metadata": {
        "id": "kG4M9TP3dCzz"
      },
      "execution_count": 5,
      "outputs": []
    },
    {
      "cell_type": "code",
      "source": [
        "import random\n",
        "def augment_spectrograms(class_distribution, data_dir, output_dir, max_samples = 1000, time_mask_param = 80,\n",
        "                         freq_mask_param = 80):\n",
        "    # Iterate over the class distribution\n",
        "    for class_folder in os.listdir(data_dir):\n",
        "        class_path = os.path.join(data_dir, class_folder)\n",
        "        if os.path.isdir(class_path):\n",
        "            # Count the number of files in the class folder\n",
        "            file_names = [file_name for file_name in os.listdir(class_path)]\n",
        "            num_files = len(file_names)\n",
        "\n",
        "            print(f\"Augmenting files in folder: {class_folder}\")\n",
        "\n",
        "            # Calculate the number of augmentations needed [ALTHOUGH EACH FILE WILL HAVE 800 SAMPLES AT THIS POINT]\n",
        "            if num_files < max_samples:\n",
        "                additional_files_needed = max_samples - num_files\n",
        "                # Determine augmentation factor per file\n",
        "                files_to_augment = random.sample(file_names, min(additional_files_needed))\n",
        "\n",
        "\n",
        "            # Loop through each file in the class folder\n",
        "            for file_name in files_to_augment:\n",
        "                if file_name == \"Laughter_284.flac\":\n",
        "                  continue\n",
        "\n",
        "                file_path = os.path.join(class_path, file_name)\n",
        "\n",
        "                mel_spec = torch.from_numpy(np.load(file_path)['mel_spec'])\n",
        "\n",
        "                augmented_spectogram = mel_spec.clone()\n",
        "\n",
        "                time_masking = T.TimeMasking(time_mask_param=80)\n",
        "                freq_masking = T.FrequencyMasking(freq_mask_param=80)\n",
        "\n",
        "                # APPLY TIME MASKING\n",
        "                augmented_spectogram = time_masking(augmented_spectogram)\n",
        "\n",
        "                # APPLY FREQUENCY MASKING\n",
        "                augmented_spectogram = freq_masking(augmented_spectogram)\n",
        "\n",
        "                output_class_dir = os.path.join(output_dir, class_folder)\n",
        "                os.makedirs(output_class_dir, exist_ok=True)\n",
        "\n",
        "                save_mel_spec = augmented_spectogram.numpy()\n",
        "                output_npz_path = os.path.join(output_class_dir, f\"augmented_{file_name}\")\n",
        "                np.savez(output_npz_path, mel_spec=save_mel_spec)"
      ],
      "metadata": {
        "id": "wuLkORFhdElD"
      },
      "execution_count": 6,
      "outputs": []
    },
    {
      "cell_type": "code",
      "source": [
        "# Define directory paths\n",
        "data_dir = '/content/drive/My Drive/DLproject-Numpy'\n",
        "output_dir = '/content/drive/My Drive/DLproject-Numpy/augmented_spectograms'\n",
        "\n",
        "# Create output directory if it doesn't exist\n",
        "os.makedirs(output_dir, exist_ok=True)\n",
        "\n",
        "augment_spectrograms(class_distribution, data_dir, output_dir)"
      ],
      "metadata": {
        "id": "2Lr4Zhd2dG24"
      },
      "execution_count": null,
      "outputs": []
    },
    {
      "cell_type": "code",
      "source": [
        "# MOVE ALL SPECTOGRAMS CREATED FROM AUGMENETED AUDIOS TO MAIN TRAIN FOLDER\n",
        "import os\n",
        "import shutil\n",
        "\n",
        "def move_npz_files(source_dir, dest_dir):\n",
        "    # Iterate over each folder in the source directory\n",
        "    for class_folder in os.listdir(source_dir):\n",
        "        source_class_path = os.path.join(source_dir, class_folder)\n",
        "        dest_class_path = os.path.join(dest_dir, class_folder)\n",
        "\n",
        "        # Ensure the destination class folder exists\n",
        "        if not os.path.exists(dest_class_path):\n",
        "            os.makedirs(dest_class_path)\n",
        "\n",
        "        # Move .npz files from source class folder to destination class folder\n",
        "        for file_name in os.listdir(source_class_path):\n",
        "            if file_name.endswith('.npz'):\n",
        "                source_file_path = os.path.join(source_class_path, file_name)\n",
        "                dest_file_path = os.path.join(dest_class_path, file_name)\n",
        "                shutil.move(source_file_path, dest_file_path)\n",
        "                print(f\"Moved '{file_name}' to '{dest_class_path}'\")\n",
        "\n",
        "# Define source and destination directories\n",
        "source_directory = '/content/drive/My Drive/DLproject-Numpy/spectograms_from_augmented_audios/augmented_audios_final'  # Update with the path to your source directory\n",
        "destination_directory = '/content/drive/My Drive/DLproject-Numpy/train'  # Update with the path to your destination directory\n",
        "\n",
        "# Call the function to move .npz files\n",
        "move_npz_files(source_directory, destination_directory)\n"
      ],
      "metadata": {
        "id": "94ZzK7KvUIVX"
      },
      "execution_count": null,
      "outputs": []
    },
    {
      "cell_type": "code",
      "source": [
        "# COUNT NUMBER OF FILES IN EACH CLASS FOLDER\n",
        "import os\n",
        "\n",
        "def count_files_in_class_folders(dest_dir):\n",
        "    # Initialize a dictionary to store the count of files in each class folder\n",
        "    class_file_counts = {}\n",
        "\n",
        "    # Iterate over each folder in the destination directory\n",
        "    for class_folder in os.listdir(dest_dir):\n",
        "        class_folder_path = os.path.join(dest_dir, class_folder)\n",
        "\n",
        "        # Check if the current item is a directory\n",
        "        if os.path.isdir(class_folder_path):\n",
        "            # Count the number of files in the class folder\n",
        "            num_files = len([file for file in os.listdir(class_folder_path) if os.path.isfile(os.path.join(class_folder_path, file))])\n",
        "            class_file_counts[class_folder] = num_files\n",
        "\n",
        "    return class_file_counts\n",
        "\n",
        "# Define the destination directory\n",
        "destination_directory = '/content/drive/My Drive/DLproject-Numpy/train'  # Update with the path to your destination directory\n",
        "\n",
        "# Get the count of files in each class folder\n",
        "class_file_counts = count_files_in_class_folders(destination_directory)\n",
        "\n",
        "# Print the counts\n",
        "for class_name, count in class_file_counts.items():\n",
        "    print(f\"Class '{class_name}': {count} files\")"
      ],
      "metadata": {
        "colab": {
          "base_uri": "https://localhost:8080/"
        },
        "id": "ouQRib7PPusa",
        "outputId": "e3f4fb80-8304-4327-f20c-01bfbdc0aecf"
      },
      "execution_count": 9,
      "outputs": [
        {
          "output_type": "stream",
          "name": "stdout",
          "text": [
            "Class 'Fart': 800 files\n",
            "Class 'Guitar': 800 files\n",
            "Class 'Gunshot_and_gunfire': 800 files\n",
            "Class 'Hi-hat': 800 files\n",
            "Class 'Knock': 800 files\n",
            "Class 'Laughter': 798 files\n",
            "Class 'Shatter': 800 files\n",
            "Class 'Snare_drum': 800 files\n",
            "Class 'Splash_and_splatter': 800 files\n",
            "Class 'car_horn': 800 files\n",
            "Class 'dog_barking': 800 files\n",
            "Class 'drilling': 800 files\n",
            "Class 'siren': 800 files\n"
          ]
        }
      ]
    },
    {
      "cell_type": "code",
      "source": [],
      "metadata": {
        "id": "JoUS3gdpLyNx"
      },
      "execution_count": null,
      "outputs": []
    }
  ]
}