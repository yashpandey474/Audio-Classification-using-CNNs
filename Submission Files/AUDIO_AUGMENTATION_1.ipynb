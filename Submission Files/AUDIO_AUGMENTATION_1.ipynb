{
  "cells": [
    {
      "cell_type": "code",
      "execution_count": null,
      "metadata": {
        "colab": {
          "base_uri": "https://localhost:8080/"
        },
        "id": "QNDuTaIVrIZY",
        "outputId": "301873dc-6ce4-4bef-e082-982e9b8cbbbf"
      },
      "outputs": [
        {
          "name": "stdout",
          "output_type": "stream",
          "text": [
            "Drive already mounted at /content/drive; to attempt to forcibly remount, call drive.mount(\"/content/drive\", force_remount=True).\n"
          ]
        }
      ],
      "source": [
        "import numpy as np\n",
        "import librosa\n",
        "import soundfile as sf\n",
        "from pydub import AudioSegment\n",
        "from pydub.effects import strip_silence\n",
        "import random\n",
        "import os\n",
        "from google.colab import drive\n",
        "drive.mount('/content/drive')\n"
      ]
    },
    {
      "cell_type": "code",
      "execution_count": null,
      "metadata": {
        "id": "vR39ZxidH4os"
      },
      "outputs": [],
      "source": [
        "\n",
        "def apply_audio_augmentation(audio, sample_rate, augmentation_type):\n",
        "    # Load the audio file\n",
        "    if augmentation_type == \"time_shift\":\n",
        "        augmented_audio = np.roll(y, 3000)\n",
        "    elif augmentation_type == \"speed_change\":\n",
        "        rate = random.uniform(0.7, 1.3)\n",
        "        augmented_audio = librosa.effects.time_stretch(y, rate=rate)\n",
        "    elif augmentation_type == \"pitch_shift\":\n",
        "        augmented_audio = librosa.effects.pitch_shift(y, sr = sr, n_steps=random.uniform(-2, 2))\n",
        "    elif augmentation_type == \"noise_injection\":\n",
        "        # Add white noise\n",
        "        noise_factor = 0.005\n",
        "        white_noise = np.random.randn(len(y)) * noise_factor\n",
        "        augmented_audio = y + white_noise\n",
        "\n",
        "    return augmented_audio\n",
        "\n",
        "#trial use case, upload whatever audio file, download untitled to see what has been changed\n",
        "#apply_audio_augmentation('/content/car_horn_5.wav','/content/untitled.wav',\"changing_speed\")"
      ]
    },
    {
      "cell_type": "code",
      "execution_count": null,
      "metadata": {
        "colab": {
          "background_save": true,
          "base_uri": "https://localhost:8080/"
        },
        "id": "ADMTvi82USh_",
        "outputId": "0157065c-2930-4055-bba8-de88df184502"
      },
      "outputs": [],
      "source": [
        "def augment_audio(input_path, output_path, max_samples=640):\n",
        "    \"\"\"\n",
        "    Augments audio files in the input directory and saves them to the output directory.\n",
        "    Only augments folders with less than max_samples files.\n",
        "    \"\"\"\n",
        "    # Ensure the output directory exists\n",
        "    os.makedirs(output_path, exist_ok=True)\n",
        "\n",
        "    # Loop through each class folder in the input directory\n",
        "    for class_folder in os.listdir(input_path):\n",
        "        class_path = os.path.join(input_path, class_folder)\n",
        "        if os.path.isdir(class_path):\n",
        "            # Count the number of files in the class folder\n",
        "            num_files = len([file for file in os.listdir(class_path) if file.endswith('.wav')])\n",
        "\n",
        "            # If the number of files is less than max_samples, augment the files\n",
        "            if num_files < max_samples:\n",
        "                print(f\"Augmenting files in folder: {class_folder}\")\n",
        "                # Loop through each file in the class folder\n",
        "                for file_name in os.listdir(class_path):\n",
        "                    if file_name.endswith(\".wav\"):\n",
        "                        # Load the audio file\n",
        "                        audio_path = os.path.join(class_path, file_name)\n",
        "                        y, sr = librosa.load(audio_path, sr=None)\n",
        "\n",
        "                        # Choose a random augmentation type\n",
        "                        augmentation_type = random.choice([\"time_shift\", \"speed_change\", \"pitch_shift\", \"noise_injection\"])\n",
        "\n",
        "                        # Apply the chosen augmentation\n",
        "                        augmented_audio = apply_audio_augmentation(y, sr, augmentation_type)\n",
        "\n",
        "                        # Save the augmented audio to the output directory\n",
        "                        output_file_name = \"aug_\" + file_name\n",
        "\n",
        "                        output_class_folder = os.path.join(output_path, class_folder)\n",
        "                        os.makedirs(output_class_folder, exist_ok=True)\n",
        "                        output_audio_path = os.path.join(output_class_folder, output_file_name)\n",
        "\n",
        "                        sf.write(output_audio_path, augmented_audio, sr)\n",
        "                        print(f\"Augmented file saved: {output_audio_path}\")\n",
        "            else:\n",
        "                print(f\"Skipping folder: {class_folder} (already has {num_files} samples)\")\n",
        "\n"
      ]
    },
    {
      "cell_type": "code",
      "execution_count": null,
      "metadata": {
        "id": "UNbj6tAeu5um"
      },
      "outputs": [],
      "source": [
        "input_folder = \"/content/drive/My Drive/audio_dataset/audio_dataset/train\"\n",
        "output_folder = \"/content/drive/My Drive/audio_dataset/audio_dataset/train_augmented\"\n",
        "\n",
        "augment_audio(input_folder, output_folder)"
      ]
    }
  ],
  "metadata": {
    "colab": {
      "provenance": []
    },
    "kernelspec": {
      "display_name": "Python 3",
      "name": "python3"
    },
    "language_info": {
      "name": "python"
    }
  },
  "nbformat": 4,
  "nbformat_minor": 0
}
