{
  "cells": [
    {
      "cell_type": "code",
      "execution_count": null,
      "id": "25fc31d0",
      "metadata": {
        "colab": {
          "base_uri": "https://localhost:8080/"
        },
        "id": "25fc31d0",
        "outputId": "adf71b38-7592-41c4-9fae-a6c5de5afbee",
        "scrolled": true
      },
      "outputs": [
        {
          "name": "stdout",
          "output_type": "stream",
          "text": [
            "Drive already mounted at /content/drive; to attempt to forcibly remount, call drive.mount(\"/content/drive\", force_remount=True).\n"
          ]
        }
      ],
      "source": [
        "import os\n",
        "import numpy as np\n",
        "import librosa\n",
        "from google.colab import drive\n",
        "import matplotlib.pyplot as plt\n",
        "from PIL import Image\n",
        "import cv2\n",
        "drive.mount('/content/drive')"
      ]
    },
    {
      "cell_type": "code",
      "execution_count": null,
      "id": "VbZ2aKyk6JFl",
      "metadata": {
        "id": "VbZ2aKyk6JFl"
      },
      "outputs": [],
      "source": [
        "def compute_mel_spectrogram(audio_file_path, n_fft=2048, hop_length=512, n_mels=128):\n",
        "    # Load the audio file\n",
        "    y, sr = librosa.load(audio_file_path, sr=None)\n",
        "\n",
        "    # Compute the mel spectrogram\n",
        "    mel_spec = librosa.feature.melspectrogram(y=y, sr=sr, n_fft=n_fft, hop_length=hop_length, n_mels=n_mels)\n",
        "    mel_spec_db = librosa.power_to_db(mel_spec, ref=np.max)\n",
        "\n",
        "    return mel_spec_db\n",
        "\n",
        "\n",
        "def mono_to_color2(X):\n",
        "    # Convert single-channel image to three channels\n",
        "    color_img = cv2.cvtColor(X, cv2.COLOR_GRAY2BGR)\n",
        "\n",
        "    # Normalize pixel values to the range [0, 255]\n",
        "    normalized_img = cv2.normalize(color_img, None, alpha=0, beta=255, norm_type=cv2.NORM_MINMAX, dtype=cv2.CV_8U)\n",
        "\n",
        "    return normalized_img\n",
        "\n",
        "def mono_to_color(X, mean=None, std=None, norm_max=None, norm_min=None, eps=1e-6):\n",
        "    X = np.stack([X, X, X], axis=-1)\n",
        "    mean = mean or X.mean()\n",
        "    X = X - mean\n",
        "    std = std or X.std()\n",
        "    Xstd = X / (std + eps)\n",
        "    _min, _max = Xstd.min(), Xstd.max()\n",
        "    norm_max = norm_max or _max\n",
        "    norm_min = norm_min or _min\n",
        "\n",
        "\n",
        "    if (_max - _min) > eps:\n",
        "        V = Xstd\n",
        "        V[V < norm_min] = norm_min\n",
        "        V[V > norm_max] = norm_max\n",
        "        V = 255 * (V - norm_min) / (norm_max - norm_min)\n",
        "        V = V.astype(np.uint8)\n",
        "    else:\n",
        "        V = np.zeros_like(Xstd, dtype=np.uint8)\n",
        "    return V"
      ]
    },
    {
      "cell_type": "code",
      "execution_count": null,
      "id": "e63e441b",
      "metadata": {
        "id": "e63e441b"
      },
      "outputs": [],
      "source": [
        "def save_mel_spectrogram_as_image(mel_spec, output_image_path):\n",
        "    # Plot the mel spectrogram without axes and color bar\n",
        "    plt.figure(figsize=(10, 4))\n",
        "    librosa.display.specshow(mel_spec, hop_length=512, x_axis=None, y_axis=None)\n",
        "    plt.axis('off')  # Turn off axes\n",
        "    plt.colorbar(format=None)  # Turn off color bar\n",
        "\n",
        "    # Save the mel spectrogram as an image without padding\n",
        "    plt.savefig(output_image_path, bbox_inches='tight', pad_inches=0, transparent=True)\n",
        "    plt.close()"
      ]
    },
    {
      "cell_type": "code",
      "execution_count": null,
      "id": "ab77c826",
      "metadata": {
        "id": "ab77c826"
      },
      "outputs": [],
      "source": [
        "def process_label_folder(label_directory, output_label_directory):\n",
        "    # Loop through each audio file in the label directory\n",
        "    for audio_file in os.listdir(label_directory):\n",
        "        audio_file_path = os.path.join(label_directory, audio_file)\n",
        "\n",
        "        try:\n",
        "            # Compute mel spectrogram\n",
        "            mel_spec = compute_mel_spectrogram(audio_file_path)\n",
        "\n",
        "            # Convert to 3 channels [Better for inputting to CNN model]\n",
        "            mel_spec = mono_to_color2(mel_spec)\n",
        "\n",
        "            # Save mel spectrogram as numpy array\n",
        "            output_npz_path = os.path.join(output_label_directory, os.path.splitext(audio_file)[0] + '.npz')\n",
        "            np.savez(output_npz_path, mel_spec=mel_spec)\n",
        "\n",
        "            print(f'Saved mel spectrogram array: {output_npz_path}')\n",
        "        except Exception as e:\n",
        "            print(f'Error processing {audio_file}: {str(e)}')\n",
        "            continue\n",
        "\n"
      ]
    },
    {
      "cell_type": "code",
      "execution_count": null,
      "id": "3c4b6ba8",
      "metadata": {
        "id": "3c4b6ba8"
      },
      "outputs": [],
      "source": [
        "def process_audio_dataset(root_directory, output_directory):\n",
        "    # Loop through 'train' and 'val' subfolders\n",
        "    for subfolder in ['train', 'val']:\n",
        "        subfolder_directory = os.path.join(root_directory, subfolder)\n",
        "\n",
        "        # Loop through each label folder in the 'train' or 'val' subfolder\n",
        "        for label in os.listdir(subfolder_directory):\n",
        "        # for label in ['Laughter', 'Shatter', 'Snare_drum', 'Splash_and_splatter', 'siren']:\n",
        "            label_directory = os.path.join(subfolder_directory, label)\n",
        "\n",
        "            # Create a corresponding output subfolder for the label\n",
        "            output_label_directory = os.path.join(output_directory, subfolder, label)\n",
        "            os.makedirs(output_label_directory, exist_ok=True)\n",
        "\n",
        "            # Process audio files in label folder\n",
        "            process_label_folder(label_directory, output_label_directory)\n"
      ]
    },
    {
      "cell_type": "code",
      "execution_count": null,
      "id": "8d3d30ca",
      "metadata": {
        "colab": {
          "base_uri": "https://localhost:8080/"
        },
        "id": "8d3d30ca",
        "outputId": "9a7a8fe3-286e-4f2f-deed-3a1ee04d2354"
      },
      "outputs": [],
      "source": [
        "def save_spectograms_as_arrays():\n",
        "    root_directory = '/content/drive/My Drive/audio_dataset/audio_dataset'\n",
        "\n",
        "    # Define the directory where mel spectrogram images will be saved\n",
        "    output_directory = '/content/drive/My Drive/DLproject-Numpy/'\n",
        "\n",
        "    # Process the audio dataset\n",
        "    process_audio_dataset(root_directory, output_directory)\n"
      ]
    },
    {
      "cell_type": "code",
      "execution_count": null,
      "id": "fL8kZwzyHwII",
      "metadata": {
        "id": "fL8kZwzyHwII"
      },
      "outputs": [],
      "source": [
        "def load_and_display_npz(npz_file_path):\n",
        "    # Load the npz file\n",
        "    data = np.load(npz_file_path)\n",
        "\n",
        "    # Extract the mel spectrogram array\n",
        "    mel_spec = data['mel_spec']\n",
        "    # mel_spec = Image.fromarray(data['mel_spec'], mode='RGB')\n",
        "\n",
        "    # Display the mel spectrogram\n",
        "    plt.figure(figsize=(10, 4))\n",
        "    plt.imshow(mel_spec)\n",
        "    plt.title('Mel Spectrogram')\n",
        "    plt.xlabel('Time')\n",
        "    plt.ylabel('Frequency')\n",
        "    plt.colorbar(label='Amplitude (dB)')\n",
        "    plt.show()\n",
        "\n",
        "    return mel_spec\n",
        "\n"
      ]
    },
    {
      "cell_type": "code",
      "execution_count": null,
      "id": "yNANAU2POFzz",
      "metadata": {
        "colab": {
          "base_uri": "https://localhost:8080/",
          "height": 410
        },
        "id": "yNANAU2POFzz",
        "outputId": "f531d5f0-e552-4ceb-b675-4b49178819d9"
      },
      "outputs": [],
      "source": [
        "# Example usage\n",
        "npz_file_path = '/content/drive/My Drive/DLproject-Numpy/train/Laughter/Laughter_120.npz'\n",
        "mel_spec = load_and_display_npz(npz_file_path)"
      ]
    }
  ],
  "metadata": {
    "colab": {
      "provenance": []
    },
    "kernelspec": {
      "display_name": "Python 3 (ipykernel)",
      "language": "python",
      "name": "python3"
    },
    "language_info": {
      "codemirror_mode": {
        "name": "ipython",
        "version": 3
      },
      "file_extension": ".py",
      "mimetype": "text/x-python",
      "name": "python",
      "nbconvert_exporter": "python",
      "pygments_lexer": "ipython3",
      "version": "3.10.9"
    }
  },
  "nbformat": 4,
  "nbformat_minor": 5
}
