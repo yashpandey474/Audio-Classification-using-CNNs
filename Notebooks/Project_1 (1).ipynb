{
  "cells": [
    {
      "cell_type": "code",
      "execution_count": 1,
      "metadata": {
        "colab": {
          "base_uri": "https://localhost:8080/"
        },
        "id": "mtUcBE4M7Pc7",
        "outputId": "aadfaf3a-f67c-4c88-ca4c-1257504fdd3d"
      },
      "outputs": [
        {
          "name": "stdout",
          "output_type": "stream",
          "text": [
            "Mounted at /content/drive\n"
          ]
        }
      ],
      "source": [
        "import pandas as pd\n",
        "import numpy as np\n",
        "import torch\n",
        "from torch import nn\n",
        "import torch.nn.functional as F\n",
        "import torch.optim as optim\n",
        "import torch.nn.init as init\n",
        "import matplotlib.pyplot as plt\n",
        "from IPython.display import Audio\n",
        "import librosa\n",
        "from google.colab import drive\n",
        "import zipfile\n",
        "import os\n",
        "drive.mount('/content/drive')"
      ]
    },
    {
      "cell_type": "markdown",
      "metadata": {},
      "source": [
        "Functions for loading data & create mel spectograms"
      ]
    },
    {
      "cell_type": "code",
      "execution_count": null,
      "metadata": {},
      "outputs": [],
      "source": [
        "def load_audio(file_path):\n",
        "  waveform, sample_rate = librosa.load(file_path, sr=None)\n",
        "  waveform, index = librosa.effects.trim(waveform, top_db=60)\n",
        "\n",
        "    # pad to a length of 4s\n",
        "  if len(waveform) > hyper_params['duration']:\n",
        "      waveform = waveform[:hyper_params['duration']]\n",
        "  else:\n",
        "      padding = hyper_params['duration'] - len(waveform)\n",
        "      offset = padding // 2\n",
        "      waveform = np.pad(waveform, (offset, hyper_params['duration'] - len(waveform) - offset), 'constant')\n",
        "\n",
        "  return waveform, sample_rate\n",
        "\n",
        "def create_melspec(params, audio_data, sampling_rate):\n",
        "  S = librosa.feature.melspectrogram(audio_data,\n",
        "                                       sr=sampling_rate,\n",
        "                                       n_mels=params['n_mels'],\n",
        "                                       hop_length=params['hop_length'],\n",
        "                                       n_fft=params['n_fft'],\n",
        "                                       fmin=params['fmin'],\n",
        "                                       fmax=(sampling_rate // 2))\n",
        "  Sb = librosa.power_to_db(S, ref=np.max)\n",
        "  Sb = Sb.astype(np.float32)\n",
        "\n",
        "  return Sb\n",
        "\n",
        "def load_data(data_dir):\n",
        "    data = []\n",
        "    labels = []\n",
        "\n",
        "    for class_name in classes:\n",
        "        class_dir = os.path.join(data_dir, class_name)\n",
        "        for file_name in os.listdir(class_dir):\n",
        "            if file_name.endswith('.wav'):\n",
        "                file_path = os.path.join(class_dir, file_name)\n",
        "                waveform, sample_rate = load_audio(file_path)\n",
        "\n",
        "                data.append(waveform)\n",
        "                labels.append(class_to_label[class_name])\n",
        "\n",
        "    return data, labels\n",
        "\n"
      ]
    },
    {
      "cell_type": "markdown",
      "metadata": {},
      "source": [
        "Load The Data"
      ]
    },
    {
      "cell_type": "code",
      "execution_count": null,
      "metadata": {},
      "outputs": [],
      "source": [
        "data_dir = '/content/drive/My Drive/audio_dataset/audio_dataset/train'\n",
        "classes = os.listdir(data_dir)\n",
        "class_to_label = {class_name: i for i, class_name in enumerate(classes)}\n",
        "\n",
        "\n",
        "\n",
        "#GET WAVEFORMS IN A LIST\n",
        "train_data, train_labels = load_data('/content/drive/My Drive/audio_dataset/audio_dataset/train')\n",
        "\n",
        "#GET [VAL] WAVEFORMS IN A LIST\n",
        "val_data, val_labels = load_data('/content/drive/My Drive/audio_dataset/audio_dataset/val')"
      ]
    },
    {
      "cell_type": "code",
      "execution_count": null,
      "metadata": {},
      "outputs": [],
      "source": []
    },
    {
      "cell_type": "code",
      "execution_count": null,
      "metadata": {},
      "outputs": [],
      "source": []
    },
    {
      "cell_type": "markdown",
      "metadata": {},
      "source": [
        "Model Architecture"
      ]
    },
    {
      "cell_type": "code",
      "execution_count": null,
      "metadata": {
        "id": "w6nfKijX-IHJ"
      },
      "outputs": [],
      "source": [
        "class CNNModel1(nn.Module):\n",
        "\n",
        "  def __init__(self):\n",
        "    super().__init__()\n",
        "\n",
        "    self.conv1 = nn.Conv2d(in_channels = 1, out_channels = 10, kernel_size = 5, stride = 1)\n",
        "    self.conv2 = nn.Conv2d(in_channels = 10, out_channels = 10, kernel_size = 5, stride = 1)\n",
        "    self.pool = nn.MaxPool2d(kernel_size = 2, stride = 2)\n",
        "    self.lin1 = nn.Linear(in_features= 4*4*10,out_features = 100)\n",
        "    self.lin2 = nn.Linear(100,10)\n",
        "\n",
        "  def forward(self, x):\n",
        "    x = F.relu(self.conv1(x))\n",
        "    x = self.pool(x)\n",
        "    x = F.relu(self.conv2(x))\n",
        "    x = self.pool(x)\n",
        "    x = torch.flatten(x,1)\n",
        "    x = F.relu(self.lin1(x))\n",
        "    x = self.lin2(x)\n",
        "    return x"
      ]
    },
    {
      "cell_type": "code",
      "execution_count": null,
      "metadata": {
        "id": "HGM3J2RwCcCy"
      },
      "outputs": [],
      "source": [
        "class ConvBlock(nn.Module):\n",
        "    def __init__(self, in_channels, out_channels):\n",
        "        super().__init__()\n",
        "\n",
        "        self.conv1 = nn.Sequential(\n",
        "            nn.Conv2d(in_channels, out_channels, 3, 1, 1),\n",
        "            nn.BatchNorm2d(out_channels),\n",
        "            nn.ReLU(),\n",
        "        )\n",
        "        self.conv2 = nn.Sequential(\n",
        "            nn.Conv2d(out_channels, out_channels, 3, 1, 1),\n",
        "            nn.ReLU(),\n",
        "            nn.Dropout(0.5)\n",
        "        )\n",
        "\n",
        "        self._init_weights()\n",
        "\n",
        "    def _init_weights(self):\n",
        "        for m in self.modules():\n",
        "            if isinstance(m, nn.Conv2d):\n",
        "                nn.init.kaiming_normal_(m.weight)\n",
        "                if m.bias is not None:\n",
        "                    nn.init.zeros_(m.bias)\n",
        "            elif isinstance(m, nn.BatchNorm2d):\n",
        "                nn.init.constant_(m.weight, 1)\n",
        "                nn.init.zeros_(m.bias)\n",
        "\n",
        "    def forward(self, x):\n",
        "        x = self.conv1(x)\n",
        "        x = self.conv2(x)\n",
        "        x = F.avg_pool2d(x, 2)\n",
        "        return x\n",
        "\n",
        "class Classifier(nn.Module):\n",
        "    def __init__(self, num_classes=10):\n",
        "        super().__init__()\n",
        "\n",
        "        self.conv = nn.Sequential(\n",
        "            ConvBlock(in_channels=3, out_channels=64),\n",
        "            ConvBlock(in_channels=64, out_channels=128),\n",
        "            ConvBlock(in_channels=128, out_channels=256),\n",
        "            ConvBlock(in_channels=256, out_channels=512),\n",
        "        )\n",
        "\n",
        "        self.fc = nn.Sequential(\n",
        "            nn.Dropout(0.4),\n",
        "            nn.Linear(512, 128),\n",
        "            nn.PReLU(),\n",
        "            nn.BatchNorm1d(128),\n",
        "            nn.Dropout(0.2),\n",
        "            nn.Linear(128, num_classes),\n",
        "        )\n",
        "\n",
        "    def forward(self, x):\n",
        "        x = self.conv(x)\n",
        "        x = torch.mean(x, dim=3)\n",
        "        x, _ = torch.max(x, dim=2)\n",
        "        x = self.fc(x)\n",
        "        return x"
      ]
    },
    {
      "cell_type": "code",
      "execution_count": null,
      "metadata": {
        "id": "FUGJ-pA7_WlZ"
      },
      "outputs": [],
      "source": [
        "def get_accuracy(predictions, targets):\n",
        "  length = len(predictions)\n",
        "  correct = 0\n",
        "  for idx in range(length):\n",
        "    if predictions[idx] == targets[idx]: correct +=1\n",
        "\n",
        "  return (correct/length) * 100"
      ]
    },
    {
      "cell_type": "code",
      "execution_count": null,
      "metadata": {
        "id": "rfBHXhxz-IJs"
      },
      "outputs": [],
      "source": [
        "train_x = train_x.unsqueeze(1)\n",
        "validation_x = validation_x.unsqueeze(1)\n",
        "test_x = test_x.unsqueeze(1) # unsqueezing to introduce batchsize"
      ]
    },
    {
      "cell_type": "code",
      "execution_count": null,
      "metadata": {
        "id": "gORuthcO_qxc"
      },
      "outputs": [],
      "source": [
        "model1 = CNNModel1()"
      ]
    },
    {
      "cell_type": "code",
      "execution_count": null,
      "metadata": {
        "id": "H1Y2CQzR-IMC"
      },
      "outputs": [],
      "source": [
        "batch_size = 128\n",
        "num_epochs = 20\n",
        "num_batches_per_train_epoch = train_x.shape[0] // batch_size\n",
        "num_batches_validation = validation_x.shape[0] // batch_size"
      ]
    },
    {
      "cell_type": "code",
      "execution_count": null,
      "metadata": {
        "id": "c3ITCy4g-IOR"
      },
      "outputs": [],
      "source": [
        "optimizer = optim.SGD(model.parameters(), lr = 0.01)\n",
        "criterion = nn.CrossEntropyLoss()"
      ]
    },
    {
      "cell_type": "code",
      "execution_count": null,
      "metadata": {
        "id": "liWEUyGs_1tx"
      },
      "outputs": [],
      "source": [
        "def train_epoch(model, train_x, train_y, validation_x, validation_y):\n",
        "\n",
        "  epoch_loss = 0\n",
        "\n",
        "  model.train()\n",
        "  train_preds = list()\n",
        "  train_targets = list()\n",
        "\n",
        "\n",
        "    # Train one epoch\n",
        "  for batch_idx in range(num_batches_per_train_epoch):\n",
        "    optimizer.zero_grad()  # This line is necessary to flush out the gradients of the previous batch.\n",
        "\n",
        "    input = train_x[batch_idx*batch_size: (batch_idx+1)*batch_size] # Slice out batch_size amount of the training data\n",
        "    output = model(input)\n",
        "    target_out = train_y[batch_idx*batch_size: (batch_idx+1)*batch_size]\n",
        "    preds = torch.argmax(output, dim=1)\n",
        "\n",
        "    train_preds +=(list(preds.detach().cpu().numpy()))\n",
        "    train_targets+=(list(target_out.detach().cpu().numpy()))\n",
        "    batch_loss = criterion(output, target_out)\n",
        "\n",
        "    batch_loss.backward()\n",
        "    optimizer.step()\n",
        "    epoch_loss += batch_loss\n",
        "  epoch_loss_ret = epoch_loss.detach().cpu() / batch_size\n",
        "\n",
        "    # Switch model to eval mode since we do not want to update our weights using test/val set images! They are for measuring performance only\n",
        "  model.eval()\n",
        "    # Training Performance at the end of epoch\n",
        "\n",
        "  val_preds = list()\n",
        "  val_targets = list()\n",
        "\n",
        "  for batch_idx in range(num_batches_validation):\n",
        "    input = validation_x[batch_idx*batch_size: (batch_idx+1)*batch_size]\n",
        "    output = model(input)\n",
        "    target_out = validation_y[batch_idx*batch_size: (batch_idx+1)*batch_size]\n",
        "    # preds = torch.argmax(output, dim=1)\n",
        "    preds = torch.max(output, 1)[1]\n",
        "\n",
        "\n",
        "    val_preds += (list(preds.detach().cpu().numpy()))\n",
        "    val_targets+=(list(target_out.detach().cpu().numpy()))\n",
        "\n",
        "  train_accuracy = get_accuracy(train_preds, train_targets)\n",
        "  val_accuracy = get_accuracy(val_preds, val_targets)\n",
        "\n",
        "  return train_accuracy, val_accuracy, epoch_loss_ret\n",
        "\n",
        "def train_model(train_x, train_y, validation_x, validation_y, model, num_epochs):\n",
        "    # Train the model\n",
        "  epoch_loss = 0\n",
        "  losses_at_each_epoch = list()\n",
        "  train_accuracies = list()\n",
        "  validation_accuracies = list()\n",
        "\n",
        "  # Forward pass -> Backward pass -> Weight update\n",
        "\n",
        "  for epoch in range(num_epochs):\n",
        "    train_accuracy, val_accuracy, epoch_loss = train_epoch(model, train_x, train_y, validation_x, validation_y)\n",
        "\n",
        "    train_accuracies.append(train_accuracy)\n",
        "    validation_accuracies.append(val_accuracy)\n",
        "    losses_at_each_epoch.append(epoch_loss)\n",
        "\n",
        "    print(\"Epoch %2i : Train Loss %f , Train acc %f, Valid acc %f\" % (\n",
        "                epoch, losses_at_each_epoch[-1], train_accuracies[-1], validation_accuracies[-1]))\n",
        "\n",
        "  return model, epoch_loss, losses_at_each_epoch, train_accuracies, validation_accuracies"
      ]
    },
    {
      "cell_type": "code",
      "execution_count": null,
      "metadata": {
        "colab": {
          "base_uri": "https://localhost:8080/"
        },
        "id": "BOLvlKwH-ITL",
        "outputId": "5e29508d-265b-4f95-f513-9d1778524d35"
      },
      "outputs": [
        {
          "name": "stdout",
          "output_type": "stream",
          "text": [
            "Mounted at /content/drive\n"
          ]
        }
      ],
      "source": []
    },
    {
      "cell_type": "code",
      "execution_count": null,
      "metadata": {
        "colab": {
          "base_uri": "https://localhost:8080/"
        },
        "id": "QKka76na-IV7",
        "outputId": "4201be28-f0e1-4942-c455-ae5d210f65f1"
      },
      "outputs": [
        {
          "name": "stdout",
          "output_type": "stream",
          "text": [
            "['Classroom', 'BIO LAB YASH PANDEY Experiment – 1 The Scientific Method VIDEO.mp4', 'IMG-6887.jpg', 'IMG-6922.jpg', 'IMG-6921.jpg', 'YASH PANDEY EXP 2 COUPLED PENDULUM PHYSICS LAB 2021.gdoc', 'IMG-6996.jpg', 'YASH PANDEY BIOLOGY LABORATORY ASSIGNMENT 4 DNA ISOLATION.pdf', 'BIO LAB ASSIGNMENT 5 YASH PANDEY.pdf', 'CP_Quiz_1_Marks.gdoc', 'unnamed.jpg', 'IMG-7608.jpg', 'IMG-7607.jpg', 'IMG-7704.jpg', 'IMG-7705.jpg', 'Yash Pandey Gurukul Guitar 30 01 22 Hotel California.MOV', 'IMG_7770.MOV', 'Adobe Scan Feb 3, 2022 (1).pdf', 'Adobe Scan Feb 3, 2022.pdf', 'Copy of conclusions.gdoc', 'Untitled document (5).gdoc', '2021AAPS0661P Exp10.pdf', 'PnS Slides', 'Lecture14_April202022.pdf', 'Letter.gdoc', 'CEL RECRUITMENT TASK B.2: EMAIL TO MICHAEL SEIBEL. BY YASH PANDEY.gdoc', 'CEL RECRUITMENT TASK B.1: SCHEDULE AND TIMELINE OF A 6-WEEK LONG STARTUP ACCELERATION PROGRAM.gdoc', 'CEL RECRUITMENT TASK C: EXECUTIVE SUMMARY ON FINTECH STARTUP UNI.gdoc', 'IMG_8496.MOV', 'Section of Solids - questions.gslides', 'Section of Solids Session 2.gslides', 'Yash Pandey_Generalist', 'Untitled document (4).gdoc', 'GROUP 65 Use case diagram OOP.pdf', 'GROUP 65 OOP Sequence diagram.pdf', 'GROUP 65 UML class OOP.pdf', 'Ecotypes 2021A7PS0661P Yash Pandey', 'Yash Leave application-11 Nov.pdf', '2021A7PS0661P_YASH PANDEY_Impact of National Smart Cities Mission on Indian Capital of Delhi.pdf', '2021A7PS0661P_YASH PANDEY_EDCC GS F212.pdf', '2021A7PS0661P.zip', 'OOP Project 5 documentation (1).docx', 'OOP Project 5 documentation.docx', 'Untitled document (3).gdoc', 'Resume_Yash Pandey.pdf', 'Untitled spreadsheet.gsheet', 'Eclipse_Projects', 'A7 - CSE', 'DSA LAB PRACTICE', 'criminality.o', 'dat1000 (1).csv', '-home-FDUSER-20210661P-Labsheet 4..txt', 'dat10000 (1).csv', 'dat100000 (1).csv', 'greater.c', 'AI Project.gdoc', 'dat1000.csv', 'bitsians.csv', 'dat10000.csv', 'dat100000.csv', 'hoarePartiution', 't3.c', 'CSF407 Artificial  Intelligence .gdoc', 'Tut 6- questions.pdf', 'CSF407 – ARTIFICIAL INTELLIGENCE.gslides', 'Untitled presentation.gslides', 'Project Allocation list_Nalanda-1.xlsx', 'HSSF26 - Trends In Indian Higher Education.gslides', 'Untitled document (2).gdoc', 'CSF407 Artficial Intelligence Project.gdoc', 'DATABASE SYSTEMS PROJECT.gdoc', 'CSF212 DATABASE SYSTEMS PROJECT', 'Copy of CSF407 Artficial Intelligence Project (1).gdoc', 'CSF407 AI PROJECT.gsheet', 'Copy of CSF407 Artficial Intelligence Project.gdoc', 'ucc-ybkz-oke - Apr 22, 2023.gjam', 'CV_Yash_Pandey_2021A7PS0661P.pdf', 'psz-rmfg-edf - Apr 26, 2023 (1).gjam', 'psz-rmfg-edf - Apr 26, 2023.gjam', 'Copy of GROUP-12: Hilbert R Tree (1).gslides', 'Copy of GROUP-12: Hilbert R Tree.gslides', 'Accepted terms.pdf', 'CSF407 Artficial Intelligence Project_GROUP13.gdoc', 'Untitled document (1).gdoc', 'CSF212 DATABASE SYSTEMS PROJECT DOCUMENTATION.gdoc', 'RESULTS - FAKE REVIEW DETECTION.gdoc', 'PROJECT REPORT - FAKE REVIEW DETECTION ON AMAZON.gdoc', 'Amazon: Practicum Project Presentation.gslides', '2021A7PS0661P_YASH PANDEY_MID-TERM REPORT.gdoc', 'Resume', 'Final report.gdoc', 'Copy of Practice Questions.gsheet', 'Proofs', 'hangman_writeup.pdf', 'hangman_api_user-Copy1 2.ipynb.zip', 'trexquant_wrriteup.pdf', 'Archive 2.zip', 'Amazon Practicum Project Presentation - Final.gslides', 'CSF407 – ARTIFICIAL INTELLIGENCE (1).gslides', 'Microsoft Outlook  Configration Guide_compressed.pdf', 'CSF266 STUDY PROJECT - Yash Pandey', 'CVPRw Paper.pdf', 'CompSci Mega Drive', 'CSF266 - Mid-Term Report: Federated Learning Using Blockchain.gdoc', 'Extra Content - Federated Learning using Blockchaini.gdoc', 'Overview - Federated Learning Using Blockchain.gdoc', 'Deep Hack Presentation.gslides', 'TEAM_SYS_Salaray Predictor.zip', 'Copy of BITSF452 - Report on Fake News Detection using Blockchain.gdoc', '2021A7PS0661P.v', 'Untitled document.gdoc', 'Colab Notebooks', 'DL_Lab2.ipynb', 'Lab_2e.ipynb', 'CSF363: Corrected Grammar.gdoc', 'DL_Lab5_pytorch_optimizers.ipynb', 'CSF363: First and Follow Sets.gdoc', 'Lab6_Submission.ipynb', '2021A7PS0661P_LAB6_SUBMISSION.ipynb', '2021A7PS0661P_LAB7_Submission (2).ipynb', '2021A7PS0661P_LAB7_Submission (1).ipynb', '2021A7PS0661P_LAB7_Submission.ipynb', 'daa_notes_compiled.pdf', 'audio_dataset.zip']\n"
          ]
        }
      ],
      "source": [
        "\n",
        "\n",
        "# Navigate to the directory where your files are located\n",
        "os.chdir('/content/drive/My Drive')\n",
        "\n",
        "# List the files in the current directory\n",
        "files = os.listdir()\n",
        "print(files)\n"
      ]
    },
    {
      "cell_type": "code",
      "execution_count": null,
      "metadata": {
        "id": "1OXzrKQvLeWL"
      },
      "outputs": [],
      "source": []
    },
    {
      "cell_type": "code",
      "execution_count": null,
      "metadata": {
        "id": "vb3sxFUdL4kV"
      },
      "outputs": [],
      "source": [
        "# Path to the zip file\n",
        "zip_file_path = '/content/drive/My Drive/audio_dataset.zip'\n",
        "\n",
        "# Directory to extract the contents\n",
        "extract_dir = '/content/drive/My Drive/audio_dataset'\n",
        "\n",
        "# Open the zip file\n",
        "with zipfile.ZipFile(zip_file_path, 'r') as zip_ref:\n",
        "    # Extract all the contents to the specified directory\n",
        "    zip_ref.extractall(extract_dir)\n"
      ]
    },
    {
      "cell_type": "code",
      "execution_count": null,
      "metadata": {
        "id": "HZrUhT_zL8bV"
      },
      "outputs": [],
      "source": []
    },
    {
      "cell_type": "code",
      "execution_count": null,
      "metadata": {
        "id": "fq_g3x5cTHrG"
      },
      "outputs": [],
      "source": [
        "audio_file_path = '/content/drive/My Drive/audio_dataset/audio_dataset/train/Snare_drum/Snare_drum_448.wav'\n"
      ]
    },
    {
      "cell_type": "code",
      "execution_count": null,
      "metadata": {
        "colab": {
          "base_uri": "https://localhost:8080/"
        },
        "id": "yxUyeQIbTUql",
        "outputId": "3f6328d7-e9dc-49f0-88bb-dcbb7eac43b6"
      },
      "outputs": [
        {
          "name": "stdout",
          "output_type": "stream",
          "text": [
            "Folders inside the directory:\n",
            "Fart\n",
            "Guitar\n",
            "Gunshot_and_gunfire\n",
            "Hi-hat\n",
            "Knock\n",
            "Laughter\n",
            "Shatter\n",
            "Snare_drum\n",
            "Splash_and_splatter\n",
            "car_horn\n",
            "dog_barking\n",
            "drilling\n",
            "siren\n"
          ]
        }
      ],
      "source": [
        "directory_path = '/content/drive/My Drive/audio_dataset/audio_dataset/train'\n",
        "folders = [f for f in os.listdir(directory_path) if os.path.isdir(os.path.join(directory_path, f))]\n",
        "\n",
        "# Print the names of the folders\n",
        "print(\"Folders inside the directory:\")\n",
        "for folder in folders:\n",
        "    print(folder)"
      ]
    },
    {
      "cell_type": "code",
      "execution_count": null,
      "metadata": {
        "id": "Ie3d06k4WOlv"
      },
      "outputs": [],
      "source": [
        "classes = folders"
      ]
    },
    {
      "cell_type": "code",
      "execution_count": null,
      "metadata": {
        "colab": {
          "base_uri": "https://localhost:8080/",
          "height": 410
        },
        "id": "wiVOAEXuWRT-",
        "outputId": "529ddf10-ae01-49f0-fb30-31ef0cf6db20"
      },
      "outputs": [
        {
          "data": {
            "image/png": "[encoded data removed]",
            "text/plain": [
              "<Figure size 1000x400 with 1 Axes>"
            ]
          },
          "metadata": {},
          "output_type": "display_data"
        }
      ],
      "source": [
        "def display_audio(audio_file_path):\n",
        "  waveform, sample_rate = librosa.load(audio_file_path, sr=None)\n",
        "\n",
        "  # Plot the waveform\n",
        "  plt.figure(figsize=(10, 4))\n",
        "  librosa.display.waveshow(waveform, sr=sample_rate)\n",
        "  plt.xlabel('Time (s)')\n",
        "  plt.ylabel('Amplitude')\n",
        "  plt.title('Waveform of Audio File')\n",
        "  plt.show()"
      ]
    },
    {
      "cell_type": "code",
      "execution_count": null,
      "metadata": {
        "id": "Qi2vXAEYjwOG"
      },
      "outputs": [],
      "source": []
    },
    {
      "cell_type": "code",
      "execution_count": null,
      "metadata": {
        "id": "Z9b9Nv7qjwQG"
      },
      "outputs": [],
      "source": [
        "# HYPERPARAMETERS\n",
        "duration_seconds = 4\n",
        "sample_rate = 22050\n",
        "hyper_params = {\n",
        "    'duration': duration_seconds*sample_rate,\n",
        "     'n_mels': 128,\n",
        "    'hop_length': 512,\n",
        "    'n_fft': 2048,\n",
        "    'fmin': 20\n",
        "}\n",
        "\n",
        "model_params = {\n",
        "    'num_epochs': 50,\n",
        "    'batch_size': 64,\n",
        "    'learning_rate': 0.001,\n",
        "    'num_clases': 10,\n",
        "    'eta_min': 1e-5,\n",
        "    't_max': 10\n",
        "}"
      ]
    },
    {
      "cell_type": "code",
      "execution_count": null,
      "metadata": {
        "id": "akZCKSU5jSZe"
      },
      "outputs": [],
      "source": []
    },
    {
      "cell_type": "code",
      "execution_count": null,
      "metadata": {
        "id": "nOdDeIBcjShl"
      },
      "outputs": [],
      "source": []
    },
    {
      "cell_type": "code",
      "execution_count": null,
      "metadata": {
        "colab": {
          "base_uri": "https://localhost:8080/"
        },
        "id": "MBF6g59spbA2",
        "outputId": "c8431daa-c628-4d3d-b2a8-f04e70212fdd"
      },
      "outputs": [
        {
          "name": "stdout",
          "output_type": "stream",
          "text": [
            "          Duration\n",
            "count  4374.000000\n",
            "mean      5.866536\n",
            "std       3.327365\n",
            "min       0.120000\n",
            "25%       3.231746\n",
            "50%       5.549410\n",
            "75%       8.000000\n",
            "max      34.829932\n"
          ]
        }
      ],
      "source": [
        "duration_df = pd.DataFrame(columns=['Duration'])\n",
        "\n",
        "# Iterate over each waveform in the list and get its duration\n",
        "for i, waveform in enumerate(train_data):\n",
        "    duration = librosa.get_duration(y=waveform)\n",
        "    duration_df.loc[i] = duration\n",
        "\n",
        "# Use .describe() to get summary statistics\n",
        "summary_stats = duration_df.describe()\n",
        "\n",
        "print(summary_stats)"
      ]
    },
    {
      "cell_type": "code",
      "execution_count": null,
      "metadata": {
        "id": "YwCrVxzhp6iH"
      },
      "outputs": [],
      "source": [
        "class ConvBlock(nn.Module):\n",
        "    def __init__(self, in_channels, out_channels):\n",
        "        super().__init__()\n",
        "\n",
        "        self.conv1 = nn.Sequential(\n",
        "            nn.Conv2d(in_channels, out_channels, 3, 1, 1),\n",
        "            nn.BatchNorm2d(out_channels),\n",
        "            nn.ReLU(),\n",
        "        )\n",
        "        self.conv2 = nn.Sequential(\n",
        "            nn.Conv2d(out_channels, out_channels, 3, 1, 1),\n",
        "            nn.ReLU(),\n",
        "            nn.Dropout(0.5)\n",
        "        )\n",
        "\n",
        "        self._init_weights()\n",
        "\n",
        "    def _init_weights(self):\n",
        "        for m in self.modules():\n",
        "            if isinstance(m, nn.Conv2d):\n",
        "                nn.init.kaiming_normal_(m.weight)\n",
        "                if m.bias is not None:\n",
        "                    nn.init.zeros_(m.bias)\n",
        "            elif isinstance(m, nn.BatchNorm2d):\n",
        "                nn.init.constant_(m.weight, 1)\n",
        "                nn.init.zeros_(m.bias)\n",
        "\n",
        "    def forward(self, x):\n",
        "        x = self.conv1(x)\n",
        "        x = self.conv2(x)\n",
        "        x = F.avg_pool2d(x, 2)\n",
        "        return x"
      ]
    },
    {
      "cell_type": "code",
      "execution_count": null,
      "metadata": {
        "id": "ZEhAnEjaEMJy"
      },
      "outputs": [],
      "source": [
        "# RESNETS:\n",
        "class BasicBlock(nn.Module):\n",
        "\n",
        "  expansion=1 # expansion is 1 as there is no expansion factor is basic block\n",
        "\n",
        "  def __init__(self, in_channels, out_channels, kernel_size=3, stride=1, downsample=None):\n",
        "\n",
        "    super().__init__()\n",
        "\n",
        "    self.conv1 = nn.Conv2d(in_channels=in_channels, out_channels=out_channels, kernel_size=3, padding=1, stride=1, bias=False) # 3x3 Conv Layer\n",
        "    self.bn1 = nn.BatchNorm2d(num_features = out_channels)\n",
        "    self.relu = nn.ReLU(inplace=True)\n",
        "    self.conv2 = nn.Conv2d(in_channels=out_channels, out_channels=out_channels, kernel_size=3, padding=1, stride=1, bias=False)\n",
        "    self.bn2 = nn.BatchNorm2d(num_features=out_channels)\n",
        "    self.downsample = downsample\n",
        "\n",
        "  def forward(self, x):\n",
        "\n",
        "    identity = x\n",
        "    x = self.conv1(x)\n",
        "    x = self.bn1(x)\n",
        "    x = self.relu(x)\n",
        "\n",
        "    x = self.conv2(x)\n",
        "    x = self.bn2(x)\n",
        "\n",
        "    if self.downsample is not None:\n",
        "      identity = self.downsample(x)\n",
        "\n",
        "    x += identity\n",
        "\n",
        "    return (self.relu(x))\n",
        "\n",
        "\n",
        "class BottleNeckBlock(nn.Module):\n",
        "\n",
        "  expansion = 4\n",
        "\n",
        "  def __init__(self, in_channels, out_channels, kernel_size=3, stride=1, downsample=None):\n",
        "\n",
        "    super().__init__()\n",
        "\n",
        "    base_width = 64\n",
        "\n",
        "    width = int(out_channels * (base_width / 64.)) * 1\n",
        "\n",
        "    self.conv1 = nn.Conv2d(in_channels=in_channels, out_channels=width, kernel_size=1, stride=stride, padding=1, bias=False)\n",
        "    self.bn1 = nn.BatchNorm2d(num_features=width)\n",
        "    self.conv2 = nn.Conv2d(in_channels=width, out_channels=width, kernel_size=3, stride=stride, padding=1, bias=False)\n",
        "    self.bn2 = nn.BatchNorm2d(num_features = width)\n",
        "    self.conv3 = nn.Conv2d(in_channels=width, out_channels=width * self.expansion , kernel_size=1, stride=stride, padding=1, bias=False)\n",
        "    self.bn3 = nn.BatchNorm2d(num_features = width * self.expansion)\n",
        "    self.relu = nn.ReLU(inplace=True)\n",
        "    self.downsample = downsample\n",
        "\n",
        "  def forward(self, x):\n",
        "\n",
        "    identity = x\n",
        "\n",
        "    x = self.conv1(x)\n",
        "    x = self.bn1(x)\n",
        "    x = self.relu(x)\n",
        "    x = self.conv2(x)\n",
        "    x = self.bn2(x)\n",
        "    x = self.relu(x)\n",
        "    x = self.conv3(x)\n",
        "    x = self.bn3(x)\n",
        "    if self.downsample is not None:\n",
        "      identity = self.downsample(x)\n",
        "    x+= identity\n",
        "\n",
        "    return (self.relu(x))\n",
        "\n",
        "class ResNetBlock(nn.Module):\n",
        "    def __init__(self, in_channels, out_channels, stride=1):\n",
        "        super().__init__()\n",
        "\n",
        "        self.conv1 = nn.Conv2d(in_channels, out_channels, kernel_size=3, stride=stride, padding=1, bias=False)\n",
        "        self.bn1 = nn.BatchNorm2d(out_channels)\n",
        "        self.conv2 = nn.Conv2d(out_channels, out_channels, kernel_size=3, stride=1, padding=1, bias=False)\n",
        "        self.bn2 = nn.BatchNorm2d(out_channels)\n",
        "\n",
        "        self.shortcut = nn.Sequential()\n",
        "        if stride != 1 or in_channels != out_channels:\n",
        "            self.shortcut = nn.Sequential(\n",
        "                nn.Conv2d(in_channels, out_channels, kernel_size=1, stride=stride, bias=False),\n",
        "                nn.BatchNorm2d(out_channels)\n",
        "            )\n",
        "\n",
        "    def forward(self, x):\n",
        "        residual = x\n",
        "        out = F.relu(self.bn1(self.conv1(x)))\n",
        "        out = self.bn2(self.conv2(out))\n",
        "        out += self.shortcut(residual)\n",
        "        out = F.relu(out)\n",
        "        return out\n",
        "\n",
        "class ResNet(nn.Module):\n",
        "\n",
        "  def __init__(self, block, layers, num_classes):\n",
        "\n",
        "    super().__init__()\n",
        "\n",
        "    self.in_channels = 64\n",
        "\n",
        "    # resnet stem\n",
        "    self.conv1 = nn.Conv2d(in_channels=3, out_channels=self.in_channels, kernel_size=7, stride=2, padding=3, bias=False)\n",
        "    self.bn1 = nn.BatchNorm2d(num_features = self.in_channels)\n",
        "    self.relu = nn.ReLU(inplace=True)\n",
        "    self.maxpool = nn.MaxPool2d(kernel_size=3, stride=2, padding=1)\n",
        "\n",
        "    #res-blocks\n",
        "    self.layer1 = self._make_layer(block, 64, layers[0])\n",
        "    self.layer2 = self._make_layer(block, 128, layers[1], stride=2)\n",
        "    self.layer3 = self._make_layer(block, 256, layers[2], stride=2)\n",
        "    self.layer4 = self._make_layer(block, 512, layers[3], stride=2)\n",
        "\n",
        "    #classifier block\n",
        "    self.adppool = nn.AdaptiveAvgPool2d((2,2))\n",
        "    self.classifier = nn.Linear(in_features=512 * block.expansion, out_features = num_classes)\n",
        "\n",
        "  def _make_layer(self, block, out_channels, blocks, stride=1):\n",
        "\n",
        "    downsample = None\n",
        "\n",
        "    if stride!=1 or self.in_channels != out_channels * block.expansion:\n",
        "\n",
        "      downsample = nn.Sequential(\n",
        "          nn.Conv2d(in_channels=self.in_channels, out_channels=out_channels * block.expansion, kernel_size=1, stride=stride, bias=False),\n",
        "          nn.BatchNorm2d(num_features=out_channels * block.expansion)\n",
        "    )\n",
        "\n",
        "    layers=[]\n",
        "\n",
        "    layers.append(block(self.in_channels, out_channels, stride, downsample))\n",
        "\n",
        "    self.in_channels = out_channels * block.expansion\n",
        "\n",
        "    for i in range(1, blocks):\n",
        "      layers.append(block(self.in_channels, out_channels))\n",
        "\n",
        "    return nn.Sequential(*layers)\n",
        "\n",
        "\n",
        "\n",
        "  def forward(self, x):\n",
        "\n",
        "    x = self.conv1(x)\n",
        "    x = self.bn1(x)\n",
        "    x = self.relu(x)\n",
        "    x = self.maxpool(x)\n",
        "    x = self.layer1(x)\n",
        "    x = self.layer2(x)\n",
        "    x = self.layer3(x)\n",
        "    x = self.layer4(x)\n",
        "    x = self.adppool(x)\n",
        "    x = torch.flatten(x, 1)\n",
        "\n",
        "    return self.classifier(x)\n",
        "\n",
        "\n",
        "class ExtendedResNetClassifier(nn.Module):\n",
        "    def __init__(self, num_classes=10):\n",
        "        super().__init__()\n",
        "\n",
        "        self.conv1 = nn.Conv2d(3, 64, kernel_size=7, stride=2, padding=3, bias=False)\n",
        "        self.bn1 = nn.BatchNorm2d(64)\n",
        "        self.relu = nn.ReLU(inplace=True)\n",
        "        self.maxpool = nn.MaxPool2d(kernel_size=3, stride=2, padding=1)\n",
        "\n",
        "        self.layer1 = self.make_layer(64, 64, 3)\n",
        "        self.layer2 = self.make_layer(64, 128, 4, stride=2)\n",
        "        self.layer3 = self.make_layer(128, 256, 6, stride=2)\n",
        "        self.layer4 = self.make_layer(256, 512, 3, stride=2)\n",
        "\n",
        "        self.avgpool = nn.AdaptiveAvgPool2d((1, 1))\n",
        "        self.fc = nn.Linear(512, num_classes)\n",
        "\n",
        "    def make_layer(self, in_channels, out_channels, num_blocks, stride=1):\n",
        "        layers = []\n",
        "        layers.append(ResNetBlock(in_channels, out_channels, stride))\n",
        "        for _ in range(1, num_blocks):\n",
        "            layers.append(ResNetBlock(out_channels, out_channels))\n",
        "        return nn.Sequential(*layers)\n",
        "\n",
        "    def forward(self, x):\n",
        "        x = self.relu(self.bn1(self.conv1(x)))\n",
        "        x = self.maxpool(x)\n",
        "\n",
        "        x = self.layer1(x)\n",
        "        x = self.layer2(x)\n",
        "        x = self.layer3(x)\n",
        "        x = self.layer4(x)\n",
        "\n",
        "        x = self.avgpool(x)\n",
        "        x = torch.flatten(x, 1)\n",
        "        x = self.fc(x)\n",
        "        return x\n"
      ]
    },
    {
      "cell_type": "code",
      "execution_count": null,
      "metadata": {
        "id": "lDI4dVGjEML_"
      },
      "outputs": [],
      "source": []
    }
  ],
  "metadata": {
    "colab": {
      "provenance": []
    },
    "kernelspec": {
      "display_name": "Python 3",
      "name": "python3"
    },
    "language_info": {
      "name": "python"
    }
  },
  "nbformat": 4,
  "nbformat_minor": 0
}
