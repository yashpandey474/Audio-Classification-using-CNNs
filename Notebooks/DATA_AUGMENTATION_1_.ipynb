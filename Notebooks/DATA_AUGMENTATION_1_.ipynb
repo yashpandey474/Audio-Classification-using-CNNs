{
  "nbformat": 4,
  "nbformat_minor": 0,
  "metadata": {
    "colab": {
      "provenance": []
    },
    "kernelspec": {
      "name": "python3",
      "display_name": "Python 3"
    },
    "language_info": {
      "name": "python"
    }
  },
  "cells": [
    {
      "cell_type": "code",
      "execution_count": 6,
      "metadata": {
        "colab": {
          "base_uri": "https://localhost:8080/"
        },
        "id": "jrQQUpz3c_0W",
        "outputId": "781578da-21e8-4a24-c5b0-be87f30369ba"
      },
      "outputs": [
        {
          "output_type": "stream",
          "name": "stdout",
          "text": [
            "Mounted at /content/drive\n"
          ]
        }
      ],
      "source": [
        "import os\n",
        "import torch\n",
        "import torchvision.transforms as transforms\n",
        "import torchaudio.transforms as T\n",
        "import torchvision.io as io\n",
        "import torchaudio\n",
        "import numpy as np\n",
        "from google.colab import drive\n",
        "drive.mount('/content/drive', force_remount = True)"
      ]
    },
    {
      "cell_type": "code",
      "source": [
        "\n",
        "# Define augmentation functions\n",
        "def time_stretch(audio, factor):\n",
        "    return torchaudio.transforms.TimeStretch(n_stps=factor)(audio)\n",
        "\n",
        "def pitch_shift(audio, shift):\n",
        "    return torchaudio.transforms.PitchShift(sample_rate=audio.size(1), n_steps=shift)(audio)\n",
        "\n",
        "def noise_injection(audio, noise_level):\n",
        "    noise = torch.randn_like(audio) * noise_level\n",
        "    return audio + noise\n",
        "\n",
        "def frequency_masking(spectrogram, num_masks=2, mask_factor=27):\n",
        "    masked_spectrogram = spectrogram.clone()\n",
        "    for _ in range(num_masks):\n",
        "        f = torch.randint(low=0, high=mask_factor, size=(1,))\n",
        "        f_max = min(f + mask_factor, spectrogram.size(1))\n",
        "        masked_spectrogram[:, f:f_max] = 0\n",
        "    return masked_spectrogram\n",
        "\n",
        "def dynamic_range_compression(audio, factor):\n",
        "    return torchaudio.transforms.Vol(factor)(audio)\n",
        "\n",
        "def time_warp(audio, warp_factor):\n",
        "    return torchaudio.transforms.TimeWarp(sample_rate=audio.size(1), warp_param=warp_factor)(audio)\n"
      ],
      "metadata": {
        "id": "edzK2jiTdCDE"
      },
      "execution_count": 3,
      "outputs": []
    },
    {
      "cell_type": "code",
      "source": [
        "\n",
        "# Define augmentation parameters\n",
        "augmentation_params = {\n",
        "    \"time_stretch_factor\": 1.1,\n",
        "    \"pitch_shift_amount\": 3,\n",
        "    \"noise_level\": 0.1,\n",
        "    \"time_warp_factor\": 0.2,\n",
        "    \"freq_masking\": 2,\n",
        "    \"freq_mask_width\": 15\n",
        "}\n",
        "\n",
        "# Define directory paths\n",
        "data_dir = '/content/drive/My Drive/DLproject'\n",
        "output_dir = '/content/drive/My Drive/DLproject/train_augmented'\n",
        "\n",
        "# Create output directory if it doesn't exist\n",
        "os.makedirs(output_dir, exist_ok=True)\n",
        "\n",
        "# Load the class distribution\n",
        "class_distribution = {\n",
        "    \"dog_barking\": 640,\n",
        "    \"car_horn\": 344,\n",
        "    \"Fart\": 291,\n",
        "    \"Guitar\": 548,\n",
        "    \"drilling\": 560,\n",
        "    \"Gunshot_and_gunfire\": 448,\n",
        "    \"Hi-hat\": 171,\n",
        "    \"Knock\": 168,\n",
        "    \"Splash_and_splatter\": 174,\n",
        "    \"Snare_drum\": 449,\n",
        "    \"Shatter\": 212,\n",
        "    \"Laughter\": 295,\n",
        "    \"siren\": 560\n",
        "}\n",
        "\n",
        "# Define threshold for underrepresented classes\n",
        "threshold = max(class_distribution.values())  # You can adjust this threshold based on your dataset\n"
      ],
      "metadata": {
        "id": "kG4M9TP3dCzz"
      },
      "execution_count": 4,
      "outputs": []
    },
    {
      "cell_type": "code",
      "source": [
        "# Iterate over the class distribution\n",
        "for class_name, num_samples in class_distribution.items():\n",
        "    if num_samples < threshold:\n",
        "        # Calculate augmentation factor needed for this class\n",
        "        augmentation_factor = int(np.ceil(threshold / num_samples))\n",
        "\n",
        "        # Load mel spectrograms for the underrepresented class\n",
        "        class_dir = os.path.join(data_dir, 'train', class_name)  # Adjust the path here\n",
        "        for mel_file in os.listdir(class_dir):\n",
        "            mel_path = os.path.join(class_dir, mel_file)\n",
        "            spectrogram = io.read_image(mel_path, mode=io.ImageReadMode.GRAY)\n",
        "\n",
        "            # Apply augmentation\n",
        "            augmented_spectogram = spectrogram.clone()\n",
        "            for i in range(augmentation_factor):\n",
        "\n",
        "                # augmented_spectrogram = time_stretch(augmented_spectrogram, factor=augmentation_params[\"time_stretch_factor\"])\n",
        "                # augmented_spectrogram = pitch_shift(augmented_spectrogram, shift=augmentation_params[\"pitch_shift_amount\"])\n",
        "                # augmented_spectrogram = noise_injection(augmented_spectrogram, noise_level=augmentation_params[\"noise_level\"])\n",
        "                # augmented_spectrogram = frequency_masking(augmented_spectrogram, num_masks=augmentation_params[\"freq_masking\"], mask_factor=augmentation_params[\"freq_mask_width\"])\n",
        "                # augmented_spectrogram = time_warp(augmented_spectrogram, warp_factor=augmentation_params[\"time_warp_factor\"])\n",
        "\n",
        "                time_masking = T.TimeMasking(time_mask_param = 80)\n",
        "                freq_masking = T.FrequencyMasking(freq_mask_param=80)\n",
        "\n",
        "                augmented_spectogram = time_masking(augmented_spectogram)\n",
        "                augmented_spectogram = freq_masking(augmented_spectogram)\n",
        "\n",
        "                output_mel_path = os.path.join(output_dir, class_name, f\"augmented_{mel_file}_{i}.png\")\n",
        "                io.write_image(output_mel_path, augmented_spectrogram)"
      ],
      "metadata": {
        "colab": {
          "base_uri": "https://localhost:8080/",
          "height": 180
        },
        "id": "wuLkORFhdElD",
        "outputId": "11c39ce0-1c7c-4c43-a720-9028d570fb24"
      },
      "execution_count": 8,
      "outputs": [
        {
          "output_type": "error",
          "ename": "AttributeError",
          "evalue": "module 'torchvision.io' has no attribute 'write_image'",
          "traceback": [
            "\u001b[0;31m---------------------------------------------------------------------------\u001b[0m",
            "\u001b[0;31mAttributeError\u001b[0m                            Traceback (most recent call last)",
            "\u001b[0;32m<ipython-input-8-726b7e0a4b32>\u001b[0m in \u001b[0;36m<cell line: 2>\u001b[0;34m()\u001b[0m\n\u001b[1;32m     28\u001b[0m \u001b[0;34m\u001b[0m\u001b[0m\n\u001b[1;32m     29\u001b[0m                 \u001b[0moutput_mel_path\u001b[0m \u001b[0;34m=\u001b[0m \u001b[0mos\u001b[0m\u001b[0;34m.\u001b[0m\u001b[0mpath\u001b[0m\u001b[0;34m.\u001b[0m\u001b[0mjoin\u001b[0m\u001b[0;34m(\u001b[0m\u001b[0moutput_dir\u001b[0m\u001b[0;34m,\u001b[0m \u001b[0mclass_name\u001b[0m\u001b[0;34m,\u001b[0m \u001b[0;34mf\"augmented_{mel_file}_{i}.png\"\u001b[0m\u001b[0;34m)\u001b[0m\u001b[0;34m\u001b[0m\u001b[0;34m\u001b[0m\u001b[0m\n\u001b[0;32m---> 30\u001b[0;31m                 \u001b[0mio\u001b[0m\u001b[0;34m.\u001b[0m\u001b[0mwrite_image\u001b[0m\u001b[0;34m(\u001b[0m\u001b[0moutput_mel_path\u001b[0m\u001b[0;34m,\u001b[0m \u001b[0maugmented_spectrogram\u001b[0m\u001b[0;34m)\u001b[0m\u001b[0;34m\u001b[0m\u001b[0;34m\u001b[0m\u001b[0m\n\u001b[0m",
            "\u001b[0;31mAttributeError\u001b[0m: module 'torchvision.io' has no attribute 'write_image'"
          ]
        }
      ]
    },
    {
      "cell_type": "code",
      "source": [],
      "metadata": {
        "id": "2Lr4Zhd2dG24"
      },
      "execution_count": null,
      "outputs": []
    }
  ]
}